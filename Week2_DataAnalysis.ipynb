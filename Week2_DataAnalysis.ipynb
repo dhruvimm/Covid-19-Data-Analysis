{
 "cells": [
  {
   "cell_type": "code",
   "execution_count": null,
   "metadata": {},
   "outputs": [],
   "source": [
    "import requests\n",
    "from bs4 import BeautifulSoup\n",
    "import pandas as pd\n",
    "import numpy as np\n",
    "import matplotlib.pyplot as plt\n",
    "import seaborn as sns"
   ]
  },
  {
   "cell_type": "code",
   "execution_count": null,
   "metadata": {},
   "outputs": [],
   "source": [
    "world_url = 'https://www.worldometers.info/coronavirus/'\n",
    "india_url = 'https://www.mohfw.gov.in/'"
   ]
  },
  {
   "cell_type": "markdown",
   "metadata": {},
   "source": [
    "## Web Scrapping the World Dataset"
   ]
  },
  {
   "cell_type": "code",
   "execution_count": null,
   "metadata": {},
   "outputs": [],
   "source": [
    "response = requests.get(world_url)\n",
    "print(response)"
   ]
  },
  {
   "cell_type": "code",
   "execution_count": null,
   "metadata": {},
   "outputs": [],
   "source": [
    "soup = BeautifulSoup(response.content,'html.parser')\n",
    "soup.title"
   ]
  },
  {
   "cell_type": "code",
   "execution_count": null,
   "metadata": {},
   "outputs": [],
   "source": [
    "divs = soup.find('div',class_='panel_flip')\n",
    "for i in divs.find_all('div',class_='panel_front'):\n",
    "    print(i.text)"
   ]
  },
  {
   "cell_type": "code",
   "execution_count": null,
   "metadata": {},
   "outputs": [],
   "source": [
    "coronatable = soup.find_all('table')"
   ]
  },
  {
   "cell_type": "code",
   "execution_count": null,
   "metadata": {},
   "outputs": [],
   "source": [
    "ct = coronatable[0]"
   ]
  },
  {
   "cell_type": "code",
   "execution_count": null,
   "metadata": {},
   "outputs": [],
   "source": [
    "country = []\n",
    "total_cases = []\n",
    "new_cases = []\n",
    "total_deaths = []\n",
    "new_deaths = []\n",
    "total_recovered = []\n",
    "active_cases = []\n",
    "rows = ct.find_all('tr')[9:-8]\n",
    "for row in rows:\n",
    "    col = row.find_all('td')\n",
    "    country.append(col[1].text.strip())\n",
    "    total_cases.append(col[2].text.strip().replace(',',''))\n",
    "    new_cases.append(col[3].text.strip().replace(',','').replace('+',''))\n",
    "    total_deaths.append(col[4].text.strip().replace(',',''))\n",
    "    new_deaths.append(col[5].text.strip().replace(',','').replace('+',''))\n",
    "    total_recovered.append(col[6].text.strip().replace(',',''))\n",
    "    active_cases.append(col[8].text.strip().replace(',','').replace('+',''))\n",
    "    \n",
    "print(country)\n",
    "print(active_cases)"
   ]
  },
  {
   "cell_type": "code",
   "execution_count": null,
   "metadata": {},
   "outputs": [],
   "source": [
    "world_df = pd.DataFrame(list(zip(country,new_cases, active_cases, total_recovered, new_deaths, total_deaths, total_cases)),\n",
    "                  columns = ['Country','NewCases','ActiveCases','TotalRecovered','NewDeaths','TotalDeaths','TotalCases'])"
   ]
  },
  {
   "cell_type": "code",
   "execution_count": null,
   "metadata": {},
   "outputs": [],
   "source": [
    "world_df.head(20)"
   ]
  },
  {
   "cell_type": "markdown",
   "metadata": {},
   "source": [
    "## Data Cleaning on World Data"
   ]
  },
  {
   "cell_type": "code",
   "execution_count": null,
   "metadata": {},
   "outputs": [],
   "source": [
    "world_df.dtypes"
   ]
  },
  {
   "cell_type": "code",
   "execution_count": null,
   "metadata": {},
   "outputs": [],
   "source": [
    "# Check for duplicated rows in the Country column\n",
    "\n",
    "world_df.Country.duplicated().sum()"
   ]
  },
  {
   "cell_type": "code",
   "execution_count": null,
   "metadata": {},
   "outputs": [],
   "source": [
    "# Check for null values\n",
    "world_df.isnull().sum()"
   ]
  },
  {
   "cell_type": "code",
   "execution_count": null,
   "metadata": {},
   "outputs": [],
   "source": [
    "# It can be seen from the dataset that it does have missing values\n",
    "# Handling missing values by replacing them with NaN\n",
    "\n",
    "world_df.replace(r'^\\s*$', np.nan, regex=True, inplace=True)\n",
    "world_df.replace('N/A', np.nan, inplace=True)\n",
    "world_df"
   ]
  },
  {
   "cell_type": "code",
   "execution_count": null,
   "metadata": {},
   "outputs": [],
   "source": [
    "# Finding the number of NaN values in the dataset\n",
    "\n",
    "world_df.isna().sum()"
   ]
  },
  {
   "cell_type": "code",
   "execution_count": null,
   "metadata": {},
   "outputs": [],
   "source": [
    "# Missing values in NewCases and New Deaths can be filled with zeros \n",
    "\n",
    "world_df.NewCases.replace(np.nan,0,inplace=True)\n",
    "world_df.NewDeaths.replace(np.nan,0,inplace=True)"
   ]
  },
  {
   "cell_type": "code",
   "execution_count": null,
   "metadata": {},
   "outputs": [],
   "source": [
    "world_df"
   ]
  },
  {
   "cell_type": "code",
   "execution_count": null,
   "metadata": {},
   "outputs": [],
   "source": [
    "world_df.isna().sum()"
   ]
  },
  {
   "cell_type": "code",
   "execution_count": null,
   "metadata": {},
   "outputs": [],
   "source": [
    "# For ActiveCase, TotalRecovered and TotalDeaths \n",
    "# The missing values can be replaced using the expression : \n",
    "# TotalCases = ActiveCases + TotalRecovered + TotalDeaths\n",
    "\n",
    "for i in world_df.index:\n",
    "    if world_df.ActiveCases[i] is np.nan:\n",
    "        if world_df.TotalRecovered[i] is np.nan or world_df.TotalDeaths[i] is np.nan:\n",
    "            world_df.ActiveCases[i] = 0 + int(world_df.NewCases[i])\n",
    "        else:\n",
    "            world_df.ActiveCases[i] = int(world_df.TotalCases[i]) + int(world_df.NewCases[i]) - int(world_df.TotalDeaths[i]) - int(world_df.TotalRecovered[i])\n",
    "    if world_df.TotalRecovered[i] is np.nan:\n",
    "        if world_df.TotalDeaths[i] is np.nan:\n",
    "            world_df.TotalRecovered[i] = 0\n",
    "        else:\n",
    "            world_df.TotalRecovered[i] = int(world_df.TotalCases[i]) - int(world_df.TotalDeaths[i]) - int(world_df.ActiveCases[i])\n",
    "            \n",
    "    if world_df.TotalDeaths[i] is np.nan:\n",
    "        world_df.TotalDeaths[i] = int(world_df.TotalCases[i]) + int(world_df.NewDeaths[i]) - int(world_df.ActiveCases[i]) - int(world_df.TotalRecovered[i])"
   ]
  },
  {
   "cell_type": "code",
   "execution_count": null,
   "metadata": {},
   "outputs": [],
   "source": [
    "world_df.head(20)"
   ]
  },
  {
   "cell_type": "code",
   "execution_count": null,
   "metadata": {},
   "outputs": [],
   "source": [
    "# Check if there are anymore missing values\n",
    "\n",
    "world_df.isna().sum()"
   ]
  },
  {
   "cell_type": "code",
   "execution_count": null,
   "metadata": {},
   "outputs": [],
   "source": [
    "# Convert all columns except Country into int to aid further calculations\n",
    "\n",
    "world_df.NewCases = world_df.NewCases.astype(int)\n",
    "world_df.ActiveCases = world_df.ActiveCases.astype(int)\n",
    "world_df.TotalRecovered = world_df.TotalRecovered.astype(int)\n",
    "world_df.NewDeaths = world_df.NewDeaths.astype(int)\n",
    "world_df.TotalDeaths = world_df.TotalDeaths.astype(int)\n",
    "world_df.TotalCases = world_df.TotalCases.astype(int)"
   ]
  },
  {
   "cell_type": "code",
   "execution_count": null,
   "metadata": {},
   "outputs": [],
   "source": [
    "world_df.dtypes"
   ]
  },
  {
   "cell_type": "code",
   "execution_count": null,
   "metadata": {},
   "outputs": [],
   "source": [
    "world_df"
   ]
  },
  {
   "cell_type": "markdown",
   "metadata": {},
   "source": [
    "## Data Analysis"
   ]
  },
  {
   "cell_type": "code",
   "execution_count": null,
   "metadata": {},
   "outputs": [],
   "source": [
    "world_df.describe()"
   ]
  },
  {
   "cell_type": "markdown",
   "metadata": {},
   "source": [
    "Drop 'NewCases' and 'NewDeaths' from the main dataframe as they are daily data and all other columns are cumulative data."
   ]
  },
  {
   "cell_type": "code",
   "execution_count": null,
   "metadata": {},
   "outputs": [],
   "source": [
    "world_df = world_df.drop(columns=['NewDeaths', 'NewCases'])"
   ]
  },
  {
   "cell_type": "code",
   "execution_count": null,
   "metadata": {},
   "outputs": [],
   "source": [
    "world_df.sort_values(by=['TotalCases'],ascending=False,inplace=True)\n",
    "world_df.head(30)"
   ]
  },
  {
   "cell_type": "code",
   "execution_count": null,
   "metadata": {},
   "outputs": [],
   "source": [
    "world_df_m = world_df.head(20)\n",
    "world_df_m"
   ]
  },
  {
   "cell_type": "markdown",
   "metadata": {},
   "source": [
    "Let's see the total numbers across various categories for the top 20 infected countries."
   ]
  },
  {
   "cell_type": "code",
   "execution_count": null,
   "metadata": {},
   "outputs": [],
   "source": [
    "fig, ax = plt.subplots(figsize=(15,5))\n",
    "\n",
    "ax.get_yaxis().get_major_formatter().set_scientific(False)\n",
    "\n",
    "# Add a bar for the total confimred cases column \n",
    "ax.bar(\"Confimred\", world_df['TotalCases'].sum())\n",
    "plt.text(-.1, world_df['TotalCases'].sum() + 50000, str(world_df['TotalCases'].sum()),fontweight='bold')\n",
    "\n",
    "# Add a bar for the total active cases column \n",
    "ax.bar(\"ActiveCases\", world_df['ActiveCases'].sum())\n",
    "plt.text(-.1+1, world_df['ActiveCases'].sum() + 50000, str(world_df['ActiveCases'].sum()),fontweight='bold')\n",
    "\n",
    "# Add a bar for the total recovered cases column \n",
    "ax.bar(\"Recovered\", world_df['TotalRecovered'].sum())\n",
    "plt.text(-.1+2, world_df['TotalRecovered'].sum() + 50000, str(world_df['TotalRecovered'].sum()),fontweight='bold')\n",
    "\n",
    "# Add a bar for the total deaths column \n",
    "ax.bar(\"Deaths\", world_df['TotalDeaths'].sum())\n",
    "plt.text(-.1+3, world_df['TotalDeaths'].sum() + 50000, str(world_df['TotalDeaths'].sum()),fontweight='bold')\n",
    "# Label the y-axis\n",
    "ax.set_ylabel(\"Total Numbers\")\n",
    "\n",
    "# Plot title\n",
    "plt.title('Total numbers across the world')\n",
    "\n",
    "plt.show()"
   ]
  },
  {
   "cell_type": "markdown",
   "metadata": {},
   "source": [
    "Plotting the 20 worst hit countries in terms of confirmed Covid cases."
   ]
  },
  {
   "cell_type": "code",
   "execution_count": null,
   "metadata": {},
   "outputs": [],
   "source": [
    "df = world_df_m.sort_values('TotalCases', ascending=False).set_index('Country').fillna(0)\n",
    "\n",
    "#rcParams['figure.figsize'] = 15, 5\n",
    "fig, ax = plt.subplots(figsize=(15,5))\n",
    "\n",
    "# Plot a bar-chart of total confirmed cases as a function of country\n",
    "ax.bar(df.index,df['TotalCases'])\n",
    "\n",
    "# Set the x-axis tick labels to the country names\n",
    "ax.set_xticklabels(df.index, rotation = 90)\n",
    "\n",
    "# Set the y-axis label\n",
    "ax.set_ylabel(\"Total Confirmed Cases\")\n",
    "\n",
    "# Plot title\n",
    "plt.title('Total confirmed cases - top 20 hit countries')\n",
    "\n",
    "plt.show()"
   ]
  },
  {
   "cell_type": "markdown",
   "metadata": {},
   "source": [
    "We see USA outweighs all other countries by a significant number and dominates the plot, thus is the worst hit country. If we look at the below boxplot which compares the distribution of actives case, deaths and recovered cases, we can clearly see the far out outlier is USA thus confirming how badly it is hit."
   ]
  },
  {
   "cell_type": "code",
   "execution_count": null,
   "metadata": {},
   "outputs": [],
   "source": [
    "fig, ax = plt.subplots(figsize=(15,5))\n",
    "\n",
    "# Plot a histogram of \"Weight\" for mens_rowing\n",
    "ax.boxplot([df['ActiveCases'],df['TotalDeaths'],df['TotalRecovered']])\n",
    "\n",
    "ax.set_ylabel(\"Number of cases\")\n",
    "# Add x-axis tick labels:\n",
    "ax.set_xticklabels(['Active Cases', 'Total Deaths','Total Recovered'])\n",
    "\n",
    "# Plot title\n",
    "plt.title('Distribution of various category of cases - top 20 hit countries')\n",
    "\n",
    "plt.show()"
   ]
  },
  {
   "cell_type": "markdown",
   "metadata": {},
   "source": [
    "Let's look at the total deaths occured so far."
   ]
  },
  {
   "cell_type": "code",
   "execution_count": null,
   "metadata": {},
   "outputs": [],
   "source": [
    "fig, ax = plt.subplots(figsize=(15,5))\n",
    "\n",
    "df = df.sort_values('TotalDeaths', ascending=False).fillna(0)\n",
    "\n",
    "# Plot a bar-chart of total deaths as a function of country\n",
    "ax.bar(df.index,df['TotalDeaths'])\n",
    "\n",
    "# Set the x-axis tick labels to the country names\n",
    "ax.set_xticklabels(df.index, rotation = 90)\n",
    "\n",
    "# Set the y-axis label\n",
    "ax.set_ylabel(\"Total Deaths\")\n",
    "\n",
    "# Plot title\n",
    "plt.title('Total deaths - top 20 hit countries')\n",
    "\n",
    "plt.show()"
   ]
  },
  {
   "cell_type": "markdown",
   "metadata": {},
   "source": [
    "Again, as expected USA is worst. Now, let's see the number of cases recovered so far from Covid-19"
   ]
  },
  {
   "cell_type": "code",
   "execution_count": null,
   "metadata": {},
   "outputs": [],
   "source": [
    "fig, ax = plt.subplots(figsize=(15,5))\n",
    "df = df.sort_values('TotalRecovered', ascending=False).fillna(0)\n",
    "\n",
    "# Plot a bar-chart of total recovered cases as a function of country\n",
    "ax.bar(df.index,df['TotalRecovered'])\n",
    "\n",
    "# Set the x-axis tick labels to the country names\n",
    "ax.set_xticklabels(df.index, rotation = 90)\n",
    "\n",
    "# Set the y-axis label\n",
    "ax.set_ylabel(\"Total Recovered Cases\")\n",
    "\n",
    "# Plot title\n",
    "plt.title('Total recovered cases - top 20 hit countries')\n",
    "\n",
    "plt.show()"
   ]
  },
  {
   "cell_type": "markdown",
   "metadata": {},
   "source": [
    "Though, as one can guess USA tops the list, other countries are not very far behind. This shows that compared to USA, other countries are doing better in terms of recovery."
   ]
  },
  {
   "cell_type": "markdown",
   "metadata": {},
   "source": [
    "We will also create a new column 'Dead_to_Recovered', which is a percentage number of 'TotalDeaths' to 'TotalRecovered'"
   ]
  },
  {
   "cell_type": "code",
   "execution_count": null,
   "metadata": {},
   "outputs": [],
   "source": [
    "df_m = world_df.copy()\n",
    "df_m['Dead_to_Recovered'] = 100*df_m['TotalDeaths']/df_m['TotalRecovered']\n",
    "df_m = df_m.head(20)\n",
    "df_m"
   ]
  },
  {
   "cell_type": "markdown",
   "metadata": {},
   "source": [
    "We can look at Dead_to_Recovered, which measures the immunity levels of people or the effective treatment that infected people are receiving. This can be measured by looking at how many people died when compared to how many people recovered."
   ]
  },
  {
   "cell_type": "code",
   "execution_count": null,
   "metadata": {},
   "outputs": [],
   "source": [
    "df_s = df_m.set_index('Country').sort_values('Dead_to_Recovered',ascending=False)\n",
    "\n",
    "fig, ax = plt.subplots(figsize=(15,5))\n",
    "\n",
    "# Plot a bar-chart of dead to recovered as a function of country\n",
    "ax.bar(df_s.index,df_s['Dead_to_Recovered'])\n",
    "\n",
    "# Set the x-axis tick labels to the country names\n",
    "ax.set_xticklabels(df_s.index, rotation = 90)\n",
    "\n",
    "# Set the y-axis label\n",
    "ax.set_ylabel(\"% dead against recovered\")\n",
    "\n",
    "# Plot title\n",
    "\n",
    "plt.title('Number people dead for people recovered - top 20 hit countries')\n",
    "plt.show()\n"
   ]
  },
  {
   "cell_type": "markdown",
   "metadata": {},
   "source": [
    "We can see from the plot, most of the European and American countries are doing bad on recovery."
   ]
  },
  {
   "cell_type": "code",
   "execution_count": null,
   "metadata": {},
   "outputs": [],
   "source": []
  },
  {
   "cell_type": "code",
   "execution_count": null,
   "metadata": {},
   "outputs": [],
   "source": []
  },
  {
   "cell_type": "markdown",
   "metadata": {},
   "source": [
    "## Web Scrapping the India Dataset"
   ]
  },
  {
   "cell_type": "code",
   "execution_count": null,
   "metadata": {
    "scrolled": true
   },
   "outputs": [],
   "source": [
    "response = requests.get(india_url)\n",
    "print(response)"
   ]
  },
  {
   "cell_type": "code",
   "execution_count": null,
   "metadata": {},
   "outputs": [],
   "source": [
    "soup = BeautifulSoup(response.content,'html.parser')\n",
    "soup.title"
   ]
  },
  {
   "cell_type": "code",
   "execution_count": null,
   "metadata": {},
   "outputs": [],
   "source": [
    "ct = soup.find('table')"
   ]
  },
  {
   "cell_type": "code",
   "execution_count": null,
   "metadata": {},
   "outputs": [],
   "source": [
    "state = []\n",
    "total_cases = []\n",
    "deaths = []\n",
    "recovered = []\n",
    "active_cases = []\n",
    "rows = ct.find_all('tr')[1:35]\n",
    "for row in rows:\n",
    "    col = row.find_all('td')\n",
    "    state.append(col[1].text.strip())\n",
    "    active_cases.append(col[2].text.strip())\n",
    "    recovered.append(col[3].text.strip())\n",
    "    deaths.append(col[4].text.strip())\n",
    "    total_cases.append(col[5].text.strip())\n",
    "    \n",
    "print(state)"
   ]
  },
  {
   "cell_type": "code",
   "execution_count": null,
   "metadata": {},
   "outputs": [],
   "source": [
    "india_df = pd.DataFrame(list(zip(state,active_cases,recovered,deaths,total_cases)),columns=['State','ActiveCases','RecoveredCases','TotalDeaths','TotalCases'])"
   ]
  },
  {
   "cell_type": "code",
   "execution_count": null,
   "metadata": {},
   "outputs": [],
   "source": [
    "india_df"
   ]
  },
  {
   "cell_type": "code",
   "execution_count": null,
   "metadata": {},
   "outputs": [],
   "source": [
    "india_df.dtypes"
   ]
  },
  {
   "cell_type": "code",
   "execution_count": null,
   "metadata": {},
   "outputs": [],
   "source": [
    "# Check for duplicated values in the State column\n",
    "\n",
    "india_df.State.duplicated().sum()"
   ]
  },
  {
   "cell_type": "code",
   "execution_count": null,
   "metadata": {},
   "outputs": [],
   "source": [
    "india_df.isnull().sum()"
   ]
  },
  {
   "cell_type": "code",
   "execution_count": null,
   "metadata": {},
   "outputs": [],
   "source": [
    "# Convert into integer from object type\n",
    "\n",
    "india_df.ActiveCases = india_df.ActiveCases.astype(int)\n",
    "india_df.RecoveredCases = india_df.RecoveredCases.astype(int)\n",
    "india_df.TotalDeaths = india_df.TotalDeaths.astype(int)\n",
    "india_df.TotalCases = india_df.TotalCases.astype(int)"
   ]
  },
  {
   "cell_type": "code",
   "execution_count": null,
   "metadata": {},
   "outputs": [],
   "source": [
    "india_df.dtypes"
   ]
  },
  {
   "cell_type": "markdown",
   "metadata": {},
   "source": [
    "This dataset does not require cleaning"
   ]
  },
  {
   "cell_type": "markdown",
   "metadata": {},
   "source": [
    "## Data Analysis"
   ]
  },
  {
   "cell_type": "code",
   "execution_count": null,
   "metadata": {},
   "outputs": [],
   "source": [
    "india_df.sort_values(by=['TotalCases'],ascending=False,inplace=True)\n",
    "india_df.head()"
   ]
  },
  {
   "cell_type": "markdown",
   "metadata": {},
   "source": [
    "Let's Look at the overall status of every state in India"
   ]
  },
  {
   "cell_type": "code",
   "execution_count": null,
   "metadata": {},
   "outputs": [],
   "source": [
    "fig, ax = plt.subplots(figsize=(15,5))\n",
    "\n",
    "ax.get_yaxis().get_major_formatter().set_scientific(False)\n",
    "\n",
    "# Add a bar for the total confimred cases column \n",
    "ax.bar(\"Confimred\", india_df['TotalCases'].sum())\n",
    "plt.text(-.1, india_df['TotalCases'].sum() + 50000, str(india_df['TotalCases'].sum()),fontweight='bold')\n",
    "\n",
    "# Add a bar for the total active cases column \n",
    "ax.bar(\"ActiveCases\", india_df['ActiveCases'].sum())\n",
    "plt.text(-.1+1, india_df['ActiveCases'].sum() + 50000, str(india_df['ActiveCases'].sum()),fontweight='bold')\n",
    "\n",
    "# Add a bar for the total recovered cases column \n",
    "ax.bar(\"Recovered\", india_df['RecoveredCases'].sum())\n",
    "plt.text(-.1+2, india_df['RecoveredCases'].sum() + 50000, str(india_df['RecoveredCases'].sum()),fontweight='bold')\n",
    "\n",
    "# Add a bar for the total deaths column \n",
    "ax.bar(\"Deaths\", india_df['TotalDeaths'].sum())\n",
    "plt.text(-.1+3, india_df['TotalDeaths'].sum() + 50000, str(india_df['TotalDeaths'].sum()),fontweight='bold')\n",
    "# Label the y-axis\n",
    "ax.set_ylabel(\"Total Numbers\")\n",
    "\n",
    "# Plot title\n",
    "plt.title('Total numbers across India')\n",
    "\n",
    "plt.show()"
   ]
  },
  {
   "cell_type": "markdown",
   "metadata": {},
   "source": [
    "Plotting the Total number of Cases against the states"
   ]
  },
  {
   "cell_type": "code",
   "execution_count": null,
   "metadata": {},
   "outputs": [],
   "source": [
    "df = india_df.sort_values('TotalCases', ascending=False).set_index('State').fillna(0)\n",
    "\n",
    "#rcParams['figure.figsize'] = 15, 5\n",
    "fig, ax = plt.subplots(figsize=(15,5))\n",
    "\n",
    "# Plot a bar-chart of total confirmed cases as a function of country\n",
    "ax.bar(df.index,df['TotalCases'])\n",
    "\n",
    "# Set the x-axis tick labels to the country names\n",
    "ax.set_xticklabels(df.index, rotation = 90)\n",
    "\n",
    "# Set the y-axis label\n",
    "ax.set_ylabel(\"Total Confirmed Cases\")\n",
    "\n",
    "# Plot title\n",
    "plt.title('Total confirmed cases in each State')\n",
    "\n",
    "plt.show()"
   ]
  },
  {
   "cell_type": "markdown",
   "metadata": {},
   "source": [
    "We see Maharashtra outweighs all other states by a significant number and dominates the plot, thus is the worst hit state. If we look at the below boxplot which compares the distribution of actives case, deaths and recovered cases, we can clearly see the far out outlier is Maharastra thus confirming how badly it is hit."
   ]
  },
  {
   "cell_type": "code",
   "execution_count": null,
   "metadata": {},
   "outputs": [],
   "source": [
    "fig, ax = plt.subplots(figsize=(15,5))\n",
    "\n",
    "# Plot a histogram of \"Weight\" for mens_rowing\n",
    "ax.boxplot([df['ActiveCases'],df['TotalDeaths'],df['RecoveredCases']])\n",
    "\n",
    "ax.set_ylabel(\"Number of cases\")\n",
    "# Add x-axis tick labels:\n",
    "ax.set_xticklabels(['Active Cases', 'Total Deaths','Total Recovered'])\n",
    "\n",
    "# Plot title\n",
    "plt.title('Distribution of various category of cases in each State')\n",
    "\n",
    "plt.show()"
   ]
  },
  {
   "cell_type": "markdown",
   "metadata": {},
   "source": [
    "Let us look at the total deaths in each state"
   ]
  },
  {
   "cell_type": "code",
   "execution_count": null,
   "metadata": {},
   "outputs": [],
   "source": [
    "fig, ax = plt.subplots(figsize=(15,5))\n",
    "\n",
    "df = df.sort_values('TotalDeaths', ascending=False).fillna(0)\n",
    "\n",
    "# Plot a bar-chart of total deaths as a function of country\n",
    "ax.bar(df.index,df['TotalDeaths'])\n",
    "\n",
    "# Set the x-axis tick labels to the country names\n",
    "ax.set_xticklabels(df.index, rotation = 90)\n",
    "\n",
    "# Set the y-axis label\n",
    "ax.set_ylabel(\"Total Deaths\")\n",
    "\n",
    "# Plot title\n",
    "plt.title('Total deaths in each State')\n",
    "\n",
    "plt.show()"
   ]
  },
  {
   "cell_type": "markdown",
   "metadata": {},
   "source": [
    "Again, Maharashtra is the worst. Then we see the number of cases recovered so far from Covid-19"
   ]
  },
  {
   "cell_type": "code",
   "execution_count": null,
   "metadata": {},
   "outputs": [],
   "source": [
    "fig, ax = plt.subplots(figsize=(15,5))\n",
    "df = df.sort_values('RecoveredCases', ascending=False).fillna(0)\n",
    "\n",
    "# Plot a bar-chart of total recovered cases as a function of country\n",
    "ax.bar(df.index,df['RecoveredCases'])\n",
    "\n",
    "# Set the x-axis tick labels to the country names\n",
    "ax.set_xticklabels(df.index, rotation = 90)\n",
    "\n",
    "# Set the y-axis label\n",
    "ax.set_ylabel(\"Total Recovered Cases\")\n",
    "\n",
    "# Plot title\n",
    "plt.title('Total recovered cases in each State')\n",
    "\n",
    "plt.show()"
   ]
  },
  {
   "cell_type": "markdown",
   "metadata": {},
   "source": [
    "Though, as one can guess Maharashtra tops the list, other states like Delhi, Tamil Nadu, Gujarat are not very far behind. This shows that compared to Maharashtra, other states are doing better in terms of recovery."
   ]
  },
  {
   "cell_type": "markdown",
   "metadata": {},
   "source": [
    "We will also create a new column 'Dead_to_Recovered', which is a percentage number of 'TotalDeaths' to 'TotalRecovered'"
   ]
  },
  {
   "cell_type": "code",
   "execution_count": null,
   "metadata": {},
   "outputs": [],
   "source": [
    "df_m = india_df.copy()\n",
    "df_m['Dead_to_Recovered'] = 100*df_m['TotalDeaths']/df_m['RecoveredCases']\n",
    "df_m"
   ]
  },
  {
   "cell_type": "code",
   "execution_count": null,
   "metadata": {},
   "outputs": [],
   "source": [
    "df_s = df_m.set_index('State').sort_values('Dead_to_Recovered',ascending=False)\n",
    "\n",
    "fig, ax = plt.subplots(figsize=(15,5))\n",
    "\n",
    "# Plot a bar-chart of dead to recovered as a function of country\n",
    "ax.bar(df_s.index,df_s['Dead_to_Recovered'])\n",
    "\n",
    "# Set the x-axis tick labels to the country names\n",
    "ax.set_xticklabels(df_s.index, rotation = 90)\n",
    "\n",
    "# Set the y-axis label\n",
    "ax.set_ylabel(\"% dead against recovered\")\n",
    "\n",
    "# Plot title\n",
    "\n",
    "plt.title('Number people dead for people recovered in each State')\n",
    "plt.show()"
   ]
  },
  {
   "cell_type": "code",
   "execution_count": null,
   "metadata": {},
   "outputs": [],
   "source": []
  }
 ],
 "metadata": {
  "kernelspec": {
   "display_name": "Python 3",
   "language": "python",
   "name": "python3"
  },
  "language_info": {
   "codemirror_mode": {
    "name": "ipython",
    "version": 3
   },
   "file_extension": ".py",
   "mimetype": "text/x-python",
   "name": "python",
   "nbconvert_exporter": "python",
   "pygments_lexer": "ipython3",
   "version": "3.7.3"
  }
 },
 "nbformat": 4,
 "nbformat_minor": 2
}
